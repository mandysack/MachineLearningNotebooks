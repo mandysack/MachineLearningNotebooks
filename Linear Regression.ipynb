{
 "cells": [
  {
   "cell_type": "markdown",
   "metadata": {},
   "source": [
    "# Linear Regression\n",
    "\n"
   ]
  },
  {
   "cell_type": "markdown",
   "metadata": {},
   "source": [
    "\"Regression is a form of supervised machine learning, which is where the scientist teaches the machine by showing it features and then showing it what the correct answer is, over and over, to teach the machine. Once the machine is taught, the scientist will usually \"test\" the machine on some unseen data, where the scientist still knows what the correct answer is, but the machine doesn't.\"\n",
    "\n",
    "In the example in the links above they use stock prices. We are going to use salary data, found here: https://www.kaggle.com/karthickveerakumar/salary-data-simple-linear-regression\n",
    "\n",
    "It has been downloaded and put into AWS already."
   ]
  },
  {
   "cell_type": "markdown",
   "metadata": {},
   "source": [
    "Supervised Learning needs Features & Labels \n",
    "    Features are the descriptive attributes\n",
    "    Label is what you're attempting to predict or forecast \n",
    "\n",
    "In this example:\n",
    "    Label: \n",
    "    Salary        \n",
    "    Features: \n",
    "    YearsExperience\n",
    "\n",
    "\n",
    "##### We are going to try to predict the Salary based on the Years Experience"
   ]
  },
  {
   "cell_type": "markdown",
   "metadata": {},
   "source": [
    "Create your environment: you can skip this step because everything is setup on AWS already"
   ]
  },
  {
   "cell_type": "code",
   "execution_count": 1,
   "metadata": {},
   "outputs": [],
   "source": [
    "#replace YOUNAMEHERE_LR with your firstInitialLastName_LR for example msack_LR then uncomment and run the cell\n",
    "#conda create -n YOUNAMEHERE_LR numpy scipy scikit-learn matplotlib pandas "
   ]
  },
  {
   "cell_type": "code",
   "execution_count": 2,
   "metadata": {},
   "outputs": [],
   "source": [
    "import pandas as pd\n",
    "import numpy as np\n",
    "import math\n",
    "import matplotlib.pyplot as plt\n",
    "from matplotlib import style\n",
    "from sklearn import preprocessing #module used to do some cleaning/scaling of data prior to machine learning\n",
    "from sklearn.model_selection import train_test_split\n",
    "from sklearn.linear_model import LinearRegression,SGDRegressor #our machine learning algorithms to demonstrate results\n",
    "import seaborn as sns\n",
    "from sklearn.metrics import *\n"
   ]
  },
  {
   "cell_type": "markdown",
   "metadata": {},
   "source": [
    "Import the Salary_Data.csv file as a DataFrame and describe the DataFrame"
   ]
  },
  {
   "cell_type": "code",
   "execution_count": 3,
   "metadata": {},
   "outputs": [
    {
     "data": {
      "text/html": [
       "<div>\n",
       "<style scoped>\n",
       "    .dataframe tbody tr th:only-of-type {\n",
       "        vertical-align: middle;\n",
       "    }\n",
       "\n",
       "    .dataframe tbody tr th {\n",
       "        vertical-align: top;\n",
       "    }\n",
       "\n",
       "    .dataframe thead th {\n",
       "        text-align: right;\n",
       "    }\n",
       "</style>\n",
       "<table border=\"1\" class=\"dataframe\">\n",
       "  <thead>\n",
       "    <tr style=\"text-align: right;\">\n",
       "      <th></th>\n",
       "      <th>YearsExperience</th>\n",
       "      <th>Salary</th>\n",
       "    </tr>\n",
       "  </thead>\n",
       "  <tbody>\n",
       "    <tr>\n",
       "      <th>count</th>\n",
       "      <td>30.000000</td>\n",
       "      <td>30.000000</td>\n",
       "    </tr>\n",
       "    <tr>\n",
       "      <th>mean</th>\n",
       "      <td>5.313333</td>\n",
       "      <td>76003.000000</td>\n",
       "    </tr>\n",
       "    <tr>\n",
       "      <th>std</th>\n",
       "      <td>2.837888</td>\n",
       "      <td>27414.429785</td>\n",
       "    </tr>\n",
       "    <tr>\n",
       "      <th>min</th>\n",
       "      <td>1.100000</td>\n",
       "      <td>37731.000000</td>\n",
       "    </tr>\n",
       "    <tr>\n",
       "      <th>25%</th>\n",
       "      <td>3.200000</td>\n",
       "      <td>56720.750000</td>\n",
       "    </tr>\n",
       "    <tr>\n",
       "      <th>50%</th>\n",
       "      <td>4.700000</td>\n",
       "      <td>65237.000000</td>\n",
       "    </tr>\n",
       "    <tr>\n",
       "      <th>75%</th>\n",
       "      <td>7.700000</td>\n",
       "      <td>100544.750000</td>\n",
       "    </tr>\n",
       "    <tr>\n",
       "      <th>max</th>\n",
       "      <td>10.500000</td>\n",
       "      <td>122391.000000</td>\n",
       "    </tr>\n",
       "  </tbody>\n",
       "</table>\n",
       "</div>"
      ],
      "text/plain": [
       "       YearsExperience         Salary\n",
       "count        30.000000      30.000000\n",
       "mean          5.313333   76003.000000\n",
       "std           2.837888   27414.429785\n",
       "min           1.100000   37731.000000\n",
       "25%           3.200000   56720.750000\n",
       "50%           4.700000   65237.000000\n",
       "75%           7.700000  100544.750000\n",
       "max          10.500000  122391.000000"
      ]
     },
     "execution_count": 3,
     "metadata": {},
     "output_type": "execute_result"
    }
   ],
   "source": [
    "dataDir = \"/Users/mandysack/Desktop/\"\n",
    "\n",
    "df = pd.read_csv(dataDir+\"Salary_Data.csv\")\n",
    "df.describe()\n",
    "#scikit requires numpy arrays so at some point \n",
    "#we will need to convert this DataFrame to a NumPy array"
   ]
  },
  {
   "cell_type": "markdown",
   "metadata": {},
   "source": [
    "In the example we will use this notebook for, we will be forcasting out 1 item.\n",
    "\n",
    "We want to keep the last items of the DataFrame to compare against for later.\n",
    "The item in the Salary column should be saved as y_true, and the item in YearsExperience should be saved as x_true. The y_true variable should be saved as a np array for use later.\n"
   ]
  },
  {
   "cell_type": "code",
   "execution_count": 4,
   "metadata": {},
   "outputs": [
    {
     "name": "stdout",
     "output_type": "stream",
     "text": [
      "    YearsExperience    Salary\n",
      "0               1.1   39343.0\n",
      "1               1.3   46205.0\n",
      "2               1.5   37731.0\n",
      "3               2.0   43525.0\n",
      "4               2.2   39891.0\n",
      "5               2.9   56642.0\n",
      "6               3.0   60150.0\n",
      "7               3.2   54445.0\n",
      "8               3.2   64445.0\n",
      "9               3.7   57189.0\n",
      "10              3.9   63218.0\n",
      "11              4.0   55794.0\n",
      "12              4.0   56957.0\n",
      "13              4.1   57081.0\n",
      "14              4.5   61111.0\n",
      "15              4.9   67938.0\n",
      "16              5.1   66029.0\n",
      "17              5.3   83088.0\n",
      "18              5.9   81363.0\n",
      "19              6.0   93940.0\n",
      "20              6.8   91738.0\n",
      "21              7.1   98273.0\n",
      "22              7.9  101302.0\n",
      "23              8.2  113812.0\n",
      "24              8.7  109431.0\n",
      "25              9.0  105582.0\n",
      "26              9.5  116969.0\n",
      "27              9.6  112635.0\n",
      "28             10.3  122391.0\n",
      "29             10.5  121872.0\n"
     ]
    }
   ],
   "source": [
    "y_true = df['Salary'].iloc[29]\n",
    "x_true = df['YearsExperience'].iloc[29]\n",
    "y_true = np.asarray([y_true])\n",
    "print(df)\n"
   ]
  },
  {
   "cell_type": "markdown",
   "metadata": {},
   "source": [
    "Using the shift function, shift the Salary column by the negative forecast_out variable. \n",
    "\n",
    "How is this different from shifting the by the positive forecast_out?\n",
    "Do you notice anything about the DateFrame that is differnt from the original DataFrame?"
   ]
  },
  {
   "cell_type": "code",
   "execution_count": 5,
   "metadata": {
    "scrolled": true
   },
   "outputs": [
    {
     "name": "stdout",
     "output_type": "stream",
     "text": [
      "1\n",
      "    YearsExperience    Salary\n",
      "0               1.1   46205.0\n",
      "1               1.3   37731.0\n",
      "2               1.5   43525.0\n",
      "3               2.0   39891.0\n",
      "4               2.2   56642.0\n",
      "5               2.9   60150.0\n",
      "6               3.0   54445.0\n",
      "7               3.2   64445.0\n",
      "8               3.2   57189.0\n",
      "9               3.7   63218.0\n",
      "10              3.9   55794.0\n",
      "11              4.0   56957.0\n",
      "12              4.0   57081.0\n",
      "13              4.1   61111.0\n",
      "14              4.5   67938.0\n",
      "15              4.9   66029.0\n",
      "16              5.1   83088.0\n",
      "17              5.3   81363.0\n",
      "18              5.9   93940.0\n",
      "19              6.0   91738.0\n",
      "20              6.8   98273.0\n",
      "21              7.1  101302.0\n",
      "22              7.9  113812.0\n",
      "23              8.2  109431.0\n",
      "24              8.7  105582.0\n",
      "25              9.0  116969.0\n",
      "26              9.5  112635.0\n",
      "27              9.6  122391.0\n",
      "28             10.3  121872.0\n",
      "29             10.5       NaN\n"
     ]
    }
   ],
   "source": [
    "forecast_out = int(math.ceil(0.01 * len(df)))\n",
    "print(forecast_out)\n",
    "df['Salary'] = df['Salary'].shift(-forecast_out)\n",
    "print(df)\n"
   ]
  },
  {
   "cell_type": "markdown",
   "metadata": {},
   "source": [
    "It is a typical standard with machine learning in code to define X (capital x), \n",
    "as the features, and y (lowercase y) as the label that corresponds to the features. \n",
    "\n",
    "Create a np.array with all of the columns EXCEPT the Salary column (hint: use drop ) and set it to X \n",
    "Create a np array with the label column and set it to y"
   ]
  },
  {
   "cell_type": "code",
   "execution_count": 6,
   "metadata": {},
   "outputs": [
    {
     "data": {
      "text/plain": [
       "array([[ 1.1],\n",
       "       [ 1.3],\n",
       "       [ 1.5],\n",
       "       [ 2. ],\n",
       "       [ 2.2],\n",
       "       [ 2.9],\n",
       "       [ 3. ],\n",
       "       [ 3.2],\n",
       "       [ 3.2],\n",
       "       [ 3.7],\n",
       "       [ 3.9],\n",
       "       [ 4. ],\n",
       "       [ 4. ],\n",
       "       [ 4.1],\n",
       "       [ 4.5],\n",
       "       [ 4.9],\n",
       "       [ 5.1],\n",
       "       [ 5.3],\n",
       "       [ 5.9],\n",
       "       [ 6. ],\n",
       "       [ 6.8],\n",
       "       [ 7.1],\n",
       "       [ 7.9],\n",
       "       [ 8.2],\n",
       "       [ 8.7],\n",
       "       [ 9. ],\n",
       "       [ 9.5],\n",
       "       [ 9.6],\n",
       "       [10.3],\n",
       "       [10.5]])"
      ]
     },
     "execution_count": 6,
     "metadata": {},
     "output_type": "execute_result"
    }
   ],
   "source": [
    "X = np.array(df.drop(['Salary'], 1))\n",
    "X\n"
   ]
  },
  {
   "cell_type": "markdown",
   "metadata": {},
   "source": [
    "Generally, you want your features in machine learning to be in a range of -1 to 1. \n",
    "This may do nothing, but it usually speeds up processing and can also help with accuracy. \n",
    "Because this range is so popularly used, it is included in the preprocessing module of Scikit-Learn. \n",
    "To utilize this, you can apply preprocessing.scale to your X variable:"
   ]
  },
  {
   "cell_type": "code",
   "execution_count": 7,
   "metadata": {},
   "outputs": [
    {
     "name": "stdout",
     "output_type": "stream",
     "text": [
      "[[1.85889428]]\n",
      "[[-1.51005294]\n",
      " [-1.43837321]\n",
      " [-1.36669348]\n",
      " [-1.18749416]\n",
      " [-1.11581443]\n",
      " [-0.86493538]\n",
      " [-0.82909552]\n",
      " [-0.75741579]\n",
      " [-0.75741579]\n",
      " [-0.57821647]\n",
      " [-0.50653674]\n",
      " [-0.47069688]\n",
      " [-0.47069688]\n",
      " [-0.43485702]\n",
      " [-0.29149756]\n",
      " [-0.1481381 ]\n",
      " [-0.07645838]\n",
      " [-0.00477865]\n",
      " [ 0.21026054]\n",
      " [ 0.2461004 ]\n",
      " [ 0.53281931]\n",
      " [ 0.6403389 ]\n",
      " [ 0.92705781]\n",
      " [ 1.03457741]\n",
      " [ 1.21377673]\n",
      " [ 1.32129632]\n",
      " [ 1.50049564]\n",
      " [ 1.5363355 ]\n",
      " [ 1.78721455]]\n"
     ]
    }
   ],
   "source": [
    "X = preprocessing.scale(X)\n",
    "X_forecasted = X[-forecast_out:] #-> this is really 10.5 aka iloc[29]\n",
    "X = X[:-forecast_out]\n",
    "print(X_forecasted)\n",
    "print(X)\n"
   ]
  },
  {
   "cell_type": "markdown",
   "metadata": {},
   "source": [
    "We had to drop the na that we just created for the 29th row of Salary \n",
    "(what we are predicting) so that we can test and train. \n",
    "\n",
    "This will allow us to predict the 29th row.\n"
   ]
  },
  {
   "cell_type": "code",
   "execution_count": 8,
   "metadata": {},
   "outputs": [
    {
     "name": "stdout",
     "output_type": "stream",
     "text": [
      "    YearsExperience    Salary\n",
      "0               1.1   46205.0\n",
      "1               1.3   37731.0\n",
      "2               1.5   43525.0\n",
      "3               2.0   39891.0\n",
      "4               2.2   56642.0\n",
      "5               2.9   60150.0\n",
      "6               3.0   54445.0\n",
      "7               3.2   64445.0\n",
      "8               3.2   57189.0\n",
      "9               3.7   63218.0\n",
      "10              3.9   55794.0\n",
      "11              4.0   56957.0\n",
      "12              4.0   57081.0\n",
      "13              4.1   61111.0\n",
      "14              4.5   67938.0\n",
      "15              4.9   66029.0\n",
      "16              5.1   83088.0\n",
      "17              5.3   81363.0\n",
      "18              5.9   93940.0\n",
      "19              6.0   91738.0\n",
      "20              6.8   98273.0\n",
      "21              7.1  101302.0\n",
      "22              7.9  113812.0\n",
      "23              8.2  109431.0\n",
      "24              8.7  105582.0\n",
      "25              9.0  116969.0\n",
      "26              9.5  112635.0\n",
      "27              9.6  122391.0\n",
      "28             10.3  121872.0\n"
     ]
    }
   ],
   "source": [
    "df.dropna(inplace=True)\n",
    "print(df)"
   ]
  },
  {
   "cell_type": "markdown",
   "metadata": {},
   "source": [
    "Next, create the label, y: \n",
    "\n",
    "This will be the Salary column."
   ]
  },
  {
   "cell_type": "code",
   "execution_count": 9,
   "metadata": {},
   "outputs": [
    {
     "name": "stdout",
     "output_type": "stream",
     "text": [
      "[ 46205.  37731.  43525.  39891.  56642.  60150.  54445.  64445.  57189.\n",
      "  63218.  55794.  56957.  57081.  61111.  67938.  66029.  83088.  81363.\n",
      "  93940.  91738.  98273. 101302. 113812. 109431. 105582. 116969. 112635.\n",
      " 122391. 121872.]\n"
     ]
    }
   ],
   "source": [
    "y = np.array(df['Salary'])\n",
    "print(y)"
   ]
  },
  {
   "cell_type": "markdown",
   "metadata": {},
   "source": [
    "Now comes the training and testing. The way this works is you take, for example, 75% of your data, and use this to train the machine learning regressor. Then you take the remaining 25% of your data, and test the regressor. \n",
    "\n",
    "There are many ways to do this, but, probably the best way is using the built in train_test_split (in SKLEARN)."
   ]
  },
  {
   "cell_type": "code",
   "execution_count": 10,
   "metadata": {},
   "outputs": [],
   "source": [
    "X_train, X_test, y_train, y_test = train_test_split(X, y, test_size=0.3)"
   ]
  },
  {
   "cell_type": "markdown",
   "metadata": {},
   "source": [
    "Next we have to define our Regressor. This example will use SGDRegressor from Scikit-Learn's linear_model package. \n",
    "\n",
    "From the docs:\n",
    "\n",
    "Linear model fitted by minimizing a regularized empirical loss with SGD\n",
    "\n",
    "SGD stands for Stochastic Gradient Descent: the gradient of the loss is estimated each sample at a time and the model is updated along the way with a decreasing strength schedule (aka learning rate).\n",
    "\n",
    "The regularizer is a penalty added to the loss function that shrinks model parameters towards the zero vector using either the squared euclidean norm L2 or the absolute norm L1 or a combination of both (Elastic Net). If the parameter update crosses the 0.0 value because of the regularizer, the update is truncated to 0.0 to allow for learning sparse models and achieve online feature selection.\n",
    "\n",
    "This implementation works with data represented as dense numpy arrays of floating point values for the features.\n",
    "\n",
    "Why did we choose this one? (hint: look here)\n",
    "https://scikit-learn.org/stable/tutorial/machine_learning_map/\n"
   ]
  },
  {
   "cell_type": "code",
   "execution_count": 11,
   "metadata": {},
   "outputs": [],
   "source": [
    "linreg = SGDRegressor(max_iter=1000, tol=1e-3, warm_start=True)"
   ]
  },
  {
   "cell_type": "markdown",
   "metadata": {},
   "source": [
    "Some Regressors use samples weights to be added to examples. \n",
    "\n",
    "The sample_weight is used in the fit and score functions. The value must be the same size as the arrays in either function. \n",
    "\n",
    "In our example, the sample_weight array must be of size 20 for the fit function and 9 for the score function.\n",
    "\n",
    "In the cell below, I have found created sample_weight arrays for you to use if you choose. \n",
    "\n",
    "Try restarting the kernel a couple times once you have it scored... notice how the performance changes?\n"
   ]
  },
  {
   "cell_type": "code",
   "execution_count": 12,
   "metadata": {},
   "outputs": [
    {
     "name": "stdout",
     "output_type": "stream",
     "text": [
      "[67.05266499, 55.93249111, 115.68590207, 80.58313832, 48.75297254, 215.39344235, 182.05129654, 28.6097126, 89.12019603, 97.66917761, 14.76617733, 168.50825818, 51.01713737, 15.16010692, 98.9410897, 18.10261534, 207.95597892, 14.42839119, 196.6054604, 28.4394922]\n"
     ]
    }
   ],
   "source": [
    "#train\n",
    "#sample_weight = 100 * np.abs(np.random.randn(20))\n",
    "sample_weight = [ 67.05266499 , 55.93249111 , 115.68590207 , 80.58313832 , 48.75297254 , 215.39344235 , 182.05129654 , 28.6097126 , 89.12019603 , 97.66917761 , 14.76617733 , 168.50825818 , 51.01713737 , 15.16010692 , 98.9410897 , 18.10261534 , 207.95597892 , 14.42839119 , 196.6054604 , 28.4394922 ]\n",
    "print(sample_weight)\n",
    "\n",
    "#test / score\n",
    "#sample_weight1 = 100 * np.abs(np.random.randn(9))\n",
    "\n",
    "sample_weight1= [67.34502598 , 31.77634733 , 81.682669 , 62.30697964 ,  48.51259691 , 45.23509357 , 3.46158233 , 63.15694268 , 58.49065105]"
   ]
  },
  {
   "cell_type": "markdown",
   "metadata": {},
   "source": [
    "Train the Regressor using the  Scikit-Learn (sklearn) fit() function\n"
   ]
  },
  {
   "cell_type": "code",
   "execution_count": 13,
   "metadata": {},
   "outputs": [
    {
     "data": {
      "text/plain": [
       "SGDRegressor(alpha=0.0001, average=False, early_stopping=False, epsilon=0.1,\n",
       "             eta0=0.01, fit_intercept=True, l1_ratio=0.15,\n",
       "             learning_rate='invscaling', loss='squared_loss', max_iter=1000,\n",
       "             n_iter_no_change=5, penalty='l2', power_t=0.25, random_state=None,\n",
       "             shuffle=True, tol=0.001, validation_fraction=0.1, verbose=0,\n",
       "             warm_start=True)"
      ]
     },
     "execution_count": 13,
     "metadata": {},
     "output_type": "execute_result"
    }
   ],
   "source": [
    "\n",
    "linreg.fit(X_train, y_train, sample_weight=sample_weight)"
   ]
  },
  {
   "cell_type": "markdown",
   "metadata": {},
   "source": [
    "Now we can test our classifier recieve our confidence score using  Scikit-Learn (sklearn) score function\n",
    "\n",
    "According to the SKLEARN documentation the score function:\n",
    "    Return the coefficient of determination R^2 of the prediction.\n",
    "    The coefficient R^2 is defined as (1 - u/v), where u is the residual sum of squares ((y_true - y_pred) ** 2).sum() and v is the total sum of squares ((y_true - y_true.mean()) ** 2).sum(). The best possible score is 1.0 and it can be negative (because the model can be arbitrarily worse). A constant model that always predicts the expected value of y, disregarding the input features, would get a R^2 score of 0.0."
   ]
  },
  {
   "cell_type": "code",
   "execution_count": 14,
   "metadata": {},
   "outputs": [
    {
     "name": "stdout",
     "output_type": "stream",
     "text": [
      "0.9589611487139913\n"
     ]
    }
   ],
   "source": [
    "\n",
    "confidence = linreg.score(X_test, y_test, sample_weight1)\n",
    "print(confidence)"
   ]
  },
  {
   "cell_type": "markdown",
   "metadata": {},
   "source": [
    "Changing the loss function is an example of a hyperparameter that can change the performance of the model.\n",
    "With the SGDRegressor algorithm, there are 4 potential loss functions for this function. The default is loss='squared_loss'.\n",
    "Create a new SGDRegressor, fit the data, and score for each of the loss variables. Which one performs the best?\n",
    "Loss function options:\n",
    "1. 'squared_loss' -> ordinary least squares fit\n",
    "2. 'huber' -> modifies ‘squared_loss’ to focus less on getting outliers correct by switching from squared to linear loss past a distance of epsilon\n",
    "3. 'epsilon_insensitive' -> ignores errors less than epsilon and is linear past that; this is the loss function used in SVR\n",
    "4. 'squared_epsilon_insensitive' -> same but becomes squared loss past a tolerance of epsilon.\n"
   ]
  },
  {
   "cell_type": "code",
   "execution_count": 15,
   "metadata": {},
   "outputs": [
    {
     "name": "stdout",
     "output_type": "stream",
     "text": [
      "-6.791315790630701\n"
     ]
    }
   ],
   "source": [
    "#huber\n",
    "linreg1 = SGDRegressor(max_iter=1000, tol=1e-3, loss='huber', epsilon=0.1)\n",
    "linreg1.fit(X_train, y_train)\n",
    "confidence = linreg1.score(X_test, y_test)\n",
    "print(confidence)"
   ]
  },
  {
   "cell_type": "code",
   "execution_count": 16,
   "metadata": {},
   "outputs": [
    {
     "name": "stdout",
     "output_type": "stream",
     "text": [
      "-6.787459095344002\n"
     ]
    },
    {
     "name": "stderr",
     "output_type": "stream",
     "text": [
      "/opt/anaconda3/envs/msack/lib/python3.6/site-packages/sklearn/linear_model/_stochastic_gradient.py:1187: ConvergenceWarning: Maximum number of iteration reached before convergence. Consider increasing max_iter to improve the fit.\n",
      "  ConvergenceWarning)\n"
     ]
    }
   ],
   "source": [
    "#epsilon_insensitive\n",
    "linreg2 = SGDRegressor(max_iter=1000, tol=1e-3, loss='epsilon_insensitive', epsilon=0.1)\n",
    "linreg2.fit(X_train, y_train)\n",
    "confidence = linreg2.score(X_test, y_test)\n",
    "print(confidence)"
   ]
  },
  {
   "cell_type": "code",
   "execution_count": 17,
   "metadata": {},
   "outputs": [
    {
     "name": "stdout",
     "output_type": "stream",
     "text": [
      "0.9558070885493637\n"
     ]
    }
   ],
   "source": [
    "#squared_epsilon_insensitive\n",
    "linreg3 = SGDRegressor(max_iter=1000, tol=1e-3, loss='squared_epsilon_insensitive', epsilon=0.09)\n",
    "linreg3.fit(X_train, y_train)\n",
    "confidence = linreg3.score(X_test, y_test)\n",
    "print(confidence)"
   ]
  },
  {
   "cell_type": "markdown",
   "metadata": {},
   "source": [
    "There are several different Regression algorithms that are available using scikit-learn. \n",
    "\n",
    "Try with the LinearRegression function, what is the score of this model?"
   ]
  },
  {
   "cell_type": "code",
   "execution_count": 18,
   "metadata": {},
   "outputs": [
    {
     "data": {
      "text/plain": [
       "0.9675028068662039"
      ]
     },
     "execution_count": 18,
     "metadata": {},
     "output_type": "execute_result"
    }
   ],
   "source": [
    "linreg4 = LinearRegression()\n",
    "linreg4.fit(X_train, y_train, sample_weight)\n",
    "linreg4.score(X_test,y_test, sample_weight1)"
   ]
  },
  {
   "cell_type": "markdown",
   "metadata": {},
   "source": [
    "Using the predict function, determine what the predicted value is for the best performing model. "
   ]
  },
  {
   "cell_type": "code",
   "execution_count": 19,
   "metadata": {},
   "outputs": [
    {
     "name": "stdout",
     "output_type": "stream",
     "text": [
      "[128146.12133071]\n",
      "[0.04488793]\n",
      "[19.69711484]\n",
      "[126808.25703642]\n",
      "[128391.96854644]\n",
      "y_pred is [128146.12133071] \n",
      " evs = 1.0 \n",
      " me = 6274.121330705588 \n",
      " mae = 6274.121330705588 \n",
      " mse = 39364598.47241486 \n",
      " msle = 0.00251998682353288 \n",
      " medae = 6274.121330705588 \n",
      " r2 = nan \n",
      " mpd = 312.32503957042354 \n",
      " mgd = 0.002478382752784114 \n",
      " mtd = 39364598.47241486 \n",
      " ***************** \n",
      "y_pred is [0.04488793] \n",
      " evs = 1.0 \n",
      " me = 121871.95511207361 \n",
      " mae = 121871.95511207361 \n",
      " mse = 14852773442.839287 \n",
      " msle = 136.1148094474078 \n",
      " medae = 121871.95511207361 \n",
      " r2 = nan \n",
      " mpd = 3367156.000815815 \n",
      " mgd = 5430025.395616138 \n",
      " mtd = 14852773442.839287 \n",
      " ***************** \n",
      "y_pred is [19.69711484] \n",
      " evs = 1.0 \n",
      " me = 121852.30288516209 \n",
      " mae = 121852.30288516209 \n",
      " mse = 14847983718.417282 \n",
      " msle = 75.35525540547407 \n",
      " medae = 121852.30288516209 \n",
      " r2 = nan \n",
      " mpd = 1884242.5281930391 \n",
      " mgd = 12355.143691100413 \n",
      " mtd = 14847983718.417282 \n",
      " ***************** \n",
      "y_pred is [126808.25703642] \n",
      " evs = 1.0 \n",
      " me = 4936.257036419134 \n",
      " mae = 4936.257036419134 \n",
      " mse = 24366633.529597413 \n",
      " msle = 0.0015764493396624522 \n",
      " medae = 4936.257036419134 \n",
      " r2 = nan \n",
      " mpd = 194.69637305490323 \n",
      " mgd = 0.001555815614552536 \n",
      " mtd = 24366633.529597413 \n",
      " ***************** \n",
      "y_pred is [128391.96854644] \n",
      " evs = 1.0 \n",
      " me = 6519.968546442251 \n",
      " mae = 6519.968546442251 \n",
      " mse = 42509989.84659628 \n",
      " msle = 0.002716088789162453 \n",
      " medae = 6519.968546442251 \n",
      " r2 = nan \n",
      " mpd = 336.84672390369815 \n",
      " mgd = 0.002669555524330125 \n",
      " mtd = 42509989.84659628 \n",
      " ***************** \n"
     ]
    },
    {
     "name": "stderr",
     "output_type": "stream",
     "text": [
      "/opt/anaconda3/envs/msack/lib/python3.6/site-packages/sklearn/metrics/_regression.py:582: UndefinedMetricWarning: R^2 score is not well-defined with less than two samples.\n",
      "  warnings.warn(msg, UndefinedMetricWarning)\n",
      "/opt/anaconda3/envs/msack/lib/python3.6/site-packages/sklearn/metrics/_regression.py:582: UndefinedMetricWarning: R^2 score is not well-defined with less than two samples.\n",
      "  warnings.warn(msg, UndefinedMetricWarning)\n",
      "/opt/anaconda3/envs/msack/lib/python3.6/site-packages/sklearn/metrics/_regression.py:582: UndefinedMetricWarning: R^2 score is not well-defined with less than two samples.\n",
      "  warnings.warn(msg, UndefinedMetricWarning)\n",
      "/opt/anaconda3/envs/msack/lib/python3.6/site-packages/sklearn/metrics/_regression.py:582: UndefinedMetricWarning: R^2 score is not well-defined with less than two samples.\n",
      "  warnings.warn(msg, UndefinedMetricWarning)\n",
      "/opt/anaconda3/envs/msack/lib/python3.6/site-packages/sklearn/metrics/_regression.py:582: UndefinedMetricWarning: R^2 score is not well-defined with less than two samples.\n",
      "  warnings.warn(msg, UndefinedMetricWarning)\n"
     ]
    }
   ],
   "source": [
    "#Exploring using the Metrics with loss \n",
    "y_pred = linreg.predict(X_forecasted)\n",
    "y_pred1 = linreg1.predict(X_forecasted)\n",
    "y_pred2 = linreg2.predict(X_forecasted)\n",
    "y_pred3 = linreg3.predict(X_forecasted)\n",
    "y_pred4 = linreg4.predict(X_forecasted)\n",
    "\n",
    "predicted_y = [y_pred, y_pred1, y_pred2, y_pred3, y_pred4]\n",
    "for i in range(len(predicted_y)):\n",
    "    print(predicted_y[i])\n",
    "\n",
    "predicted_y = [y_pred, y_pred1, y_pred2, y_pred3, y_pred4]\n",
    "for y_pred_ in predicted_y:\n",
    "    evs = explained_variance_score(y_true, y_pred_)\n",
    "\n",
    "    me = max_error(y_true, y_pred_)\n",
    "\n",
    "    mae = mean_absolute_error(y_true, y_pred_)\n",
    "\n",
    "    mse = mean_squared_error(y_true, y_pred_)\n",
    "\n",
    "    msle = mean_squared_log_error(y_true, y_pred_)\n",
    "\n",
    "    medae = median_absolute_error(y_true, y_pred_)\n",
    "\n",
    "    r2 = r2_score(y_true, y_pred_)\n",
    "\n",
    "    mpd = mean_poisson_deviance(y_true, y_pred_)\n",
    "\n",
    "    mgd = mean_gamma_deviance(y_true, y_pred_)\n",
    "\n",
    "    mtd = mean_tweedie_deviance(y_true, y_pred_)\n",
    "    print(\"y_pred is {} \\n evs = {} \\n me = {} \\n mae = {} \\n mse = {} \\n msle = {} \\n medae = {} \\n r2 = {} \\n mpd = {} \\n mgd = {} \\n mtd = {} \\n ***************** \".format(\n",
    "    y_pred_, evs, me, mae, mse, msle, medae, r2, mpd, mgd, mtd))\n"
   ]
  },
  {
   "cell_type": "markdown",
   "metadata": {},
   "source": [
    "Let's visualize what we have:\n",
    "1. Create a correlation matrix using seaborn\n",
    "2. Create a correlation matrix WITH Regression using seaborn"
   ]
  },
  {
   "cell_type": "code",
   "execution_count": 20,
   "metadata": {},
   "outputs": [
    {
     "data": {
      "text/plain": [
       "<seaborn.axisgrid.PairGrid at 0x1a232ae438>"
      ]
     },
     "execution_count": 20,
     "metadata": {},
     "output_type": "execute_result"
    },
    {
     "data": {
      "image/png": "[encoded data removed]",
      "text/plain": [
       "<Figure size 360x360 with 6 Axes>"
      ]
     },
     "metadata": {
      "needs_background": "light"
     },
     "output_type": "display_data"
    }
   ],
   "source": [
    "# Create a Correlation Matrix using seaborn\n",
    "sns.pairplot(df)\n"
   ]
  },
  {
   "cell_type": "code",
   "execution_count": 21,
   "metadata": {},
   "outputs": [
    {
     "data": {
      "text/plain": [
       "<seaborn.axisgrid.PairGrid at 0x1a23796c88>"
      ]
     },
     "execution_count": 21,
     "metadata": {},
     "output_type": "execute_result"
    },
    {
     "data": {
      "image/png": "[encoded data removed]",
      "text/plain": [
       "<Figure size 360x360 with 6 Axes>"
      ]
     },
     "metadata": {
      "needs_background": "light"
     },
     "output_type": "display_data"
    }
   ],
   "source": [
    "# with regression\n",
    "sns.pairplot(df, kind=\"reg\")\n"
   ]
  },
  {
   "cell_type": "markdown",
   "metadata": {},
   "source": [
    "What is the correlation value? then visualize the correlation matrix using background_gradient."
   ]
  },
  {
   "cell_type": "code",
   "execution_count": 22,
   "metadata": {},
   "outputs": [],
   "source": [
    "corr = df.corr()"
   ]
  },
  {
   "cell_type": "code",
   "execution_count": 23,
   "metadata": {},
   "outputs": [
    {
     "data": {
      "text/html": [
       "<style  type=\"text/css\" >\n",
       "    #T_c11667c2_8028_11ea_95b1_a683e71703abrow0_col0 {\n",
       "            background-color:  #b40426;\n",
       "            color:  #f1f1f1;\n",
       "        }    #T_c11667c2_8028_11ea_95b1_a683e71703abrow0_col1 {\n",
       "            background-color:  #3b4cc0;\n",
       "            color:  #f1f1f1;\n",
       "        }    #T_c11667c2_8028_11ea_95b1_a683e71703abrow1_col0 {\n",
       "            background-color:  #3b4cc0;\n",
       "            color:  #f1f1f1;\n",
       "        }    #T_c11667c2_8028_11ea_95b1_a683e71703abrow1_col1 {\n",
       "            background-color:  #b40426;\n",
       "            color:  #f1f1f1;\n",
       "        }</style><table id=\"T_c11667c2_8028_11ea_95b1_a683e71703ab\" ><thead>    <tr>        <th class=\"blank level0\" ></th>        <th class=\"col_heading level0 col0\" >YearsExperience</th>        <th class=\"col_heading level0 col1\" >Salary</th>    </tr></thead><tbody>\n",
       "                <tr>\n",
       "                        <th id=\"T_c11667c2_8028_11ea_95b1_a683e71703ablevel0_row0\" class=\"row_heading level0 row0\" >YearsExperience</th>\n",
       "                        <td id=\"T_c11667c2_8028_11ea_95b1_a683e71703abrow0_col0\" class=\"data row0 col0\" >1.000000</td>\n",
       "                        <td id=\"T_c11667c2_8028_11ea_95b1_a683e71703abrow0_col1\" class=\"data row0 col1\" >0.973281</td>\n",
       "            </tr>\n",
       "            <tr>\n",
       "                        <th id=\"T_c11667c2_8028_11ea_95b1_a683e71703ablevel0_row1\" class=\"row_heading level0 row1\" >Salary</th>\n",
       "                        <td id=\"T_c11667c2_8028_11ea_95b1_a683e71703abrow1_col0\" class=\"data row1 col0\" >0.973281</td>\n",
       "                        <td id=\"T_c11667c2_8028_11ea_95b1_a683e71703abrow1_col1\" class=\"data row1 col1\" >1.000000</td>\n",
       "            </tr>\n",
       "    </tbody></table>"
      ],
      "text/plain": [
       "<pandas.io.formats.style.Styler at 0x1a23b146d8>"
      ]
     },
     "execution_count": 23,
     "metadata": {},
     "output_type": "execute_result"
    }
   ],
   "source": [
    "corr.style.background_gradient(cmap='coolwarm')"
   ]
  },
  {
   "cell_type": "markdown",
   "metadata": {},
   "source": [
    "We need to add our Forecasted Salary for Years experience. \n",
    "Add a column 'Forecast' to the dataframe and initialize it with np.nann"
   ]
  },
  {
   "cell_type": "code",
   "execution_count": 24,
   "metadata": {},
   "outputs": [
    {
     "name": "stdout",
     "output_type": "stream",
     "text": [
      "    YearsExperience    Salary  Forecast\n",
      "0               1.1   46205.0       NaN\n",
      "1               1.3   37731.0       NaN\n",
      "2               1.5   43525.0       NaN\n",
      "3               2.0   39891.0       NaN\n",
      "4               2.2   56642.0       NaN\n",
      "5               2.9   60150.0       NaN\n",
      "6               3.0   54445.0       NaN\n",
      "7               3.2   64445.0       NaN\n",
      "8               3.2   57189.0       NaN\n",
      "9               3.7   63218.0       NaN\n",
      "10              3.9   55794.0       NaN\n",
      "11              4.0   56957.0       NaN\n",
      "12              4.0   57081.0       NaN\n",
      "13              4.1   61111.0       NaN\n",
      "14              4.5   67938.0       NaN\n",
      "15              4.9   66029.0       NaN\n",
      "16              5.1   83088.0       NaN\n",
      "17              5.3   81363.0       NaN\n",
      "18              5.9   93940.0       NaN\n",
      "19              6.0   91738.0       NaN\n",
      "20              6.8   98273.0       NaN\n",
      "21              7.1  101302.0       NaN\n",
      "22              7.9  113812.0       NaN\n",
      "23              8.2  109431.0       NaN\n",
      "24              8.7  105582.0       NaN\n",
      "25              9.0  116969.0       NaN\n",
      "26              9.5  112635.0       NaN\n",
      "27              9.6  122391.0       NaN\n",
      "28             10.3  121872.0       NaN\n"
     ]
    }
   ],
   "source": [
    "df['Forecast'] = np.nan\n",
    "print(df)"
   ]
  },
  {
   "cell_type": "markdown",
   "metadata": {},
   "source": [
    "Now we need to add back in our saved YearsExperience variable (x_true) in the appropriate place. \n",
    "\n",
    "We also need to put the y_pred variable in the Forecast column. \n"
   ]
  },
  {
   "cell_type": "code",
   "execution_count": 25,
   "metadata": {},
   "outputs": [
    {
     "name": "stdout",
     "output_type": "stream",
     "text": [
      "28\n",
      "128146.12133070559\n"
     ]
    },
    {
     "data": {
      "text/html": [
       "<div>\n",
       "<style scoped>\n",
       "    .dataframe tbody tr th:only-of-type {\n",
       "        vertical-align: middle;\n",
       "    }\n",
       "\n",
       "    .dataframe tbody tr th {\n",
       "        vertical-align: top;\n",
       "    }\n",
       "\n",
       "    .dataframe thead th {\n",
       "        text-align: right;\n",
       "    }\n",
       "</style>\n",
       "<table border=\"1\" class=\"dataframe\">\n",
       "  <thead>\n",
       "    <tr style=\"text-align: right;\">\n",
       "      <th></th>\n",
       "      <th>YearsExperience</th>\n",
       "      <th>Salary</th>\n",
       "      <th>Forecast</th>\n",
       "    </tr>\n",
       "  </thead>\n",
       "  <tbody>\n",
       "    <tr>\n",
       "      <th>0</th>\n",
       "      <td>1.1</td>\n",
       "      <td>46205.0</td>\n",
       "      <td>NaN</td>\n",
       "    </tr>\n",
       "    <tr>\n",
       "      <th>1</th>\n",
       "      <td>1.3</td>\n",
       "      <td>37731.0</td>\n",
       "      <td>NaN</td>\n",
       "    </tr>\n",
       "    <tr>\n",
       "      <th>2</th>\n",
       "      <td>1.5</td>\n",
       "      <td>43525.0</td>\n",
       "      <td>NaN</td>\n",
       "    </tr>\n",
       "    <tr>\n",
       "      <th>3</th>\n",
       "      <td>2.0</td>\n",
       "      <td>39891.0</td>\n",
       "      <td>NaN</td>\n",
       "    </tr>\n",
       "    <tr>\n",
       "      <th>4</th>\n",
       "      <td>2.2</td>\n",
       "      <td>56642.0</td>\n",
       "      <td>NaN</td>\n",
       "    </tr>\n",
       "    <tr>\n",
       "      <th>5</th>\n",
       "      <td>2.9</td>\n",
       "      <td>60150.0</td>\n",
       "      <td>NaN</td>\n",
       "    </tr>\n",
       "    <tr>\n",
       "      <th>6</th>\n",
       "      <td>3.0</td>\n",
       "      <td>54445.0</td>\n",
       "      <td>NaN</td>\n",
       "    </tr>\n",
       "    <tr>\n",
       "      <th>7</th>\n",
       "      <td>3.2</td>\n",
       "      <td>64445.0</td>\n",
       "      <td>NaN</td>\n",
       "    </tr>\n",
       "    <tr>\n",
       "      <th>8</th>\n",
       "      <td>3.2</td>\n",
       "      <td>57189.0</td>\n",
       "      <td>NaN</td>\n",
       "    </tr>\n",
       "    <tr>\n",
       "      <th>9</th>\n",
       "      <td>3.7</td>\n",
       "      <td>63218.0</td>\n",
       "      <td>NaN</td>\n",
       "    </tr>\n",
       "    <tr>\n",
       "      <th>10</th>\n",
       "      <td>3.9</td>\n",
       "      <td>55794.0</td>\n",
       "      <td>NaN</td>\n",
       "    </tr>\n",
       "    <tr>\n",
       "      <th>11</th>\n",
       "      <td>4.0</td>\n",
       "      <td>56957.0</td>\n",
       "      <td>NaN</td>\n",
       "    </tr>\n",
       "    <tr>\n",
       "      <th>12</th>\n",
       "      <td>4.0</td>\n",
       "      <td>57081.0</td>\n",
       "      <td>NaN</td>\n",
       "    </tr>\n",
       "    <tr>\n",
       "      <th>13</th>\n",
       "      <td>4.1</td>\n",
       "      <td>61111.0</td>\n",
       "      <td>NaN</td>\n",
       "    </tr>\n",
       "    <tr>\n",
       "      <th>14</th>\n",
       "      <td>4.5</td>\n",
       "      <td>67938.0</td>\n",
       "      <td>NaN</td>\n",
       "    </tr>\n",
       "    <tr>\n",
       "      <th>15</th>\n",
       "      <td>4.9</td>\n",
       "      <td>66029.0</td>\n",
       "      <td>NaN</td>\n",
       "    </tr>\n",
       "    <tr>\n",
       "      <th>16</th>\n",
       "      <td>5.1</td>\n",
       "      <td>83088.0</td>\n",
       "      <td>NaN</td>\n",
       "    </tr>\n",
       "    <tr>\n",
       "      <th>17</th>\n",
       "      <td>5.3</td>\n",
       "      <td>81363.0</td>\n",
       "      <td>NaN</td>\n",
       "    </tr>\n",
       "    <tr>\n",
       "      <th>18</th>\n",
       "      <td>5.9</td>\n",
       "      <td>93940.0</td>\n",
       "      <td>NaN</td>\n",
       "    </tr>\n",
       "    <tr>\n",
       "      <th>19</th>\n",
       "      <td>6.0</td>\n",
       "      <td>91738.0</td>\n",
       "      <td>NaN</td>\n",
       "    </tr>\n",
       "    <tr>\n",
       "      <th>20</th>\n",
       "      <td>6.8</td>\n",
       "      <td>98273.0</td>\n",
       "      <td>NaN</td>\n",
       "    </tr>\n",
       "    <tr>\n",
       "      <th>21</th>\n",
       "      <td>7.1</td>\n",
       "      <td>101302.0</td>\n",
       "      <td>NaN</td>\n",
       "    </tr>\n",
       "    <tr>\n",
       "      <th>22</th>\n",
       "      <td>7.9</td>\n",
       "      <td>113812.0</td>\n",
       "      <td>NaN</td>\n",
       "    </tr>\n",
       "    <tr>\n",
       "      <th>23</th>\n",
       "      <td>8.2</td>\n",
       "      <td>109431.0</td>\n",
       "      <td>NaN</td>\n",
       "    </tr>\n",
       "    <tr>\n",
       "      <th>24</th>\n",
       "      <td>8.7</td>\n",
       "      <td>105582.0</td>\n",
       "      <td>NaN</td>\n",
       "    </tr>\n",
       "    <tr>\n",
       "      <th>25</th>\n",
       "      <td>9.0</td>\n",
       "      <td>116969.0</td>\n",
       "      <td>NaN</td>\n",
       "    </tr>\n",
       "    <tr>\n",
       "      <th>26</th>\n",
       "      <td>9.5</td>\n",
       "      <td>112635.0</td>\n",
       "      <td>NaN</td>\n",
       "    </tr>\n",
       "    <tr>\n",
       "      <th>27</th>\n",
       "      <td>9.6</td>\n",
       "      <td>122391.0</td>\n",
       "      <td>NaN</td>\n",
       "    </tr>\n",
       "    <tr>\n",
       "      <th>28</th>\n",
       "      <td>10.3</td>\n",
       "      <td>121872.0</td>\n",
       "      <td>NaN</td>\n",
       "    </tr>\n",
       "    <tr>\n",
       "      <th>29</th>\n",
       "      <td>10.5</td>\n",
       "      <td>NaN</td>\n",
       "      <td>128146.121331</td>\n",
       "    </tr>\n",
       "  </tbody>\n",
       "</table>\n",
       "</div>"
      ],
      "text/plain": [
       "    YearsExperience    Salary       Forecast\n",
       "0               1.1   46205.0            NaN\n",
       "1               1.3   37731.0            NaN\n",
       "2               1.5   43525.0            NaN\n",
       "3               2.0   39891.0            NaN\n",
       "4               2.2   56642.0            NaN\n",
       "5               2.9   60150.0            NaN\n",
       "6               3.0   54445.0            NaN\n",
       "7               3.2   64445.0            NaN\n",
       "8               3.2   57189.0            NaN\n",
       "9               3.7   63218.0            NaN\n",
       "10              3.9   55794.0            NaN\n",
       "11              4.0   56957.0            NaN\n",
       "12              4.0   57081.0            NaN\n",
       "13              4.1   61111.0            NaN\n",
       "14              4.5   67938.0            NaN\n",
       "15              4.9   66029.0            NaN\n",
       "16              5.1   83088.0            NaN\n",
       "17              5.3   81363.0            NaN\n",
       "18              5.9   93940.0            NaN\n",
       "19              6.0   91738.0            NaN\n",
       "20              6.8   98273.0            NaN\n",
       "21              7.1  101302.0            NaN\n",
       "22              7.9  113812.0            NaN\n",
       "23              8.2  109431.0            NaN\n",
       "24              8.7  105582.0            NaN\n",
       "25              9.0  116969.0            NaN\n",
       "26              9.5  112635.0            NaN\n",
       "27              9.6  122391.0            NaN\n",
       "28             10.3  121872.0            NaN\n",
       "29             10.5       NaN  128146.121331"
      ]
     },
     "execution_count": 25,
     "metadata": {},
     "output_type": "execute_result"
    }
   ],
   "source": [
    "last_row = df.iloc[-1].name\n",
    "print(last_row)\n",
    "#This for loop will keep adding onto the dataframe each time it is ran... there should only be 1 item forecasted.\n",
    "for i in y_pred:\n",
    "    print(i)\n",
    "    next_row= last_row + 1\n",
    "    df.loc[next_row] = [np.nan for _ in range(len(df.columns)-1)]+[i]\n",
    "    df.loc[next_row,'YearsExperience'] = x_true\n",
    "df"
   ]
  },
  {
   "cell_type": "markdown",
   "metadata": {},
   "source": [
    "We cannot do a typical \"plot\" for the forecasted variable because we are only forecasting the next year of experience. \n",
    "Use a scatterplot to plot the salary and forecasted salary for years experience. \n",
    "Then, plot a straight line to show the first and last(forecasted) point \n"
   ]
  },
  {
   "cell_type": "code",
   "execution_count": 26,
   "metadata": {},
   "outputs": [
    {
     "name": "stdout",
     "output_type": "stream",
     "text": [
      "[1.1, 10.5]\n",
      "[46205.0, 128146.12133070559]\n"
     ]
    },
    {
     "data": {
      "image/png": "[encoded data removed]",
      "text/plain": [
       "<Figure size 432x288 with 1 Axes>"
      ]
     },
     "metadata": {
      "needs_background": "light"
     },
     "output_type": "display_data"
    }
   ],
   "source": [
    "plt.scatter(df['YearsExperience'], df['Salary']) \n",
    "plt.scatter(df['YearsExperience'], df['Forecast']) \n",
    "#x values\n",
    "print([df.iloc[0,0], df.iloc[29,0]])\n",
    "#y values\n",
    "print([df.iloc[0,1],df.iloc[29,2]])\n",
    "#Plot the straight line\n",
    "plt.plot([df.iloc[0,0], df.iloc[29,0]],[df.iloc[0,1],df.iloc[29,2]] ,color = 'green')\n",
    "plt.title(\"Linear Regression Example\")\n",
    "plt.xlabel('Years Experience')\n",
    "plt.ylabel('Salary')\n",
    "plt.show()"
   ]
  }
 ],
 "metadata": {
  "kernelspec": {
   "display_name": "Python 3",
   "language": "python",
   "name": "python3"
  },
  "language_info": {
   "codemirror_mode": {
    "name": "ipython",
    "version": 3
   },
   "file_extension": ".py",
   "mimetype": "text/x-python",
   "name": "python",
   "nbconvert_exporter": "python",
   "pygments_lexer": "ipython3",
   "version": "3.6.10"
  }
 },
 "nbformat": 4,
 "nbformat_minor": 4
}
